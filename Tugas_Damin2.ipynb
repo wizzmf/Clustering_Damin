{
  "nbformat": 4,
  "nbformat_minor": 0,
  "metadata": {
    "colab": {
      "name": "AgglomerativeClustering.ipynb",
      "provenance": []
    },
    "kernelspec": {
      "name": "python3",
      "display_name": "Python 3"
    }
  },
  "cells": [
    {
      "cell_type": "markdown",
      "metadata": {
        "id": "neel-mzmDle8",
        "colab_type": "text"
      },
      "source": [
        "Importing Library"
      ]
    },
    {
      "cell_type": "code",
      "metadata": {
        "id": "eoCpbfBQDdIh",
        "colab_type": "code",
        "colab": {}
      },
      "source": [
        "import numpy as np\n",
        "import matplotlib.pyplot as plt\n",
        "import pandas as pd\n",
        "import scipy.cluster.hierarchy as sch\n",
        "from sklearn.cluster import AgglomerativeClustering"
      ],
      "execution_count": 0,
      "outputs": []
    },
    {
      "cell_type": "markdown",
      "metadata": {
        "id": "hVjqjExuDz2I",
        "colab_type": "text"
      },
      "source": [
        "Inserting Dataset"
      ]
    },
    {
      "cell_type": "code",
      "metadata": {
        "id": "-e8eyrEbDyHt",
        "colab_type": "code",
        "colab": {}
      },
      "source": [
        "Data = {'x': [2,55,80,0,24,38,41,55,77,19,16,3,79,66,49,41,46,23,21],\n",
        "        'y': [5,2,72,67,35,21,26,37,42,16,19,30,50,29,27,44,56,33,26]\n",
        "       }\n",
        "\n",
        "df = pd.DataFrame(Data,columns=['x','y'])"
      ],
      "execution_count": 0,
      "outputs": []
    },
    {
      "cell_type": "markdown",
      "metadata": {
        "id": "0heu3Ke2EClH",
        "colab_type": "text"
      },
      "source": [
        "Converting Data into Dendrogram"
      ]
    },
    {
      "cell_type": "code",
      "metadata": {
        "id": "vInxWbDDECNz",
        "colab_type": "code",
        "outputId": "448b1070-ccd0-4717-b13a-e550c3d6e3d6",
        "colab": {
          "base_uri": "https://localhost:8080/",
          "height": 270
        }
      },
      "source": [
        "dendrogram = sch.dendrogram(sch.linkage(df, method='ward'))"
      ],
      "execution_count": 5,
      "outputs": [
        {
          "output_type": "display_data",
          "data": {
            "image/png": "[encoded data removed]",
            "text/plain": [
              "<Figure size 432x288 with 1 Axes>"
            ]
          },
          "metadata": {
            "tags": []
          }
        }
      ]
    },
    {
      "cell_type": "markdown",
      "metadata": {
        "id": "a3nkVaJqEYKJ",
        "colab_type": "text"
      },
      "source": [
        "Converting data into Dendroids"
      ]
    },
    {
      "cell_type": "code",
      "metadata": {
        "id": "lya6Oj8uEdBX",
        "colab_type": "code",
        "outputId": "1859c308-f6f9-4b2d-f49b-520507145bc8",
        "colab": {
          "base_uri": "https://localhost:8080/",
          "height": 282
        }
      },
      "source": [
        "plt.scatter(df['x'], df['y'])"
      ],
      "execution_count": 6,
      "outputs": [
        {
          "output_type": "execute_result",
          "data": {
            "text/plain": [
              "<matplotlib.collections.PathCollection at 0x7f110e00f358>"
            ]
          },
          "metadata": {
            "tags": []
          },
          "execution_count": 6
        },
        {
          "output_type": "display_data",
          "data": {
            "image/png": "[encoded data removed]",
            "text/plain": [
              "<Figure size 432x288 with 1 Axes>"
            ]
          },
          "metadata": {
            "tags": []
          }
        }
      ]
    },
    {
      "cell_type": "markdown",
      "metadata": {
        "id": "oKWOT0BrEkXZ",
        "colab_type": "text"
      },
      "source": [
        "Commencing Agglomerative Clustering"
      ]
    },
    {
      "cell_type": "code",
      "metadata": {
        "id": "6eEJM423EnmD",
        "colab_type": "code",
        "colab": {}
      },
      "source": [
        "hc = AgglomerativeClustering(n_clusters=4, affinity='euclidean', linkage='ward')\n",
        "y_hc = hc.fit_predict(df)"
      ],
      "execution_count": 0,
      "outputs": []
    },
    {
      "cell_type": "markdown",
      "metadata": {
        "id": "UEIi-LNBEvS1",
        "colab_type": "text"
      },
      "source": [
        "Showing results"
      ]
    },
    {
      "cell_type": "code",
      "metadata": {
        "id": "yCkA_gkkE0FU",
        "colab_type": "code",
        "outputId": "9ea05045-c0dd-4bd2-f646-c3c8a2afeb7e",
        "colab": {
          "base_uri": "https://localhost:8080/",
          "height": 282
        }
      },
      "source": [
        "plt.scatter(df['x'], df['y'], c=hc.labels_, s= 100)"
      ],
      "execution_count": 8,
      "outputs": [
        {
          "output_type": "execute_result",
          "data": {
            "text/plain": [
              "<matplotlib.collections.PathCollection at 0x7f110df82940>"
            ]
          },
          "metadata": {
            "tags": []
          },
          "execution_count": 8
        },
        {
          "output_type": "display_data",
          "data": {
            "image/png": "[encoded data removed]",
            "text/plain": [
              "<Figure size 432x288 with 1 Axes>"
            ]
          },
          "metadata": {
            "tags": []
          }
        }
      ]
    }
  ]
}